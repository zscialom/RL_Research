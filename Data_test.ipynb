{
  "nbformat": 4,
  "nbformat_minor": 0,
  "metadata": {
    "colab": {
      "provenance": [],
      "authorship_tag": "ABX9TyNvr7apf44lvlvmixfEnCxh",
      "include_colab_link": true
    },
    "kernelspec": {
      "name": "python3",
      "display_name": "Python 3"
    },
    "language_info": {
      "name": "python"
    },
    "accelerator": "TPU",
    "gpuClass": "standard"
  },
  "cells": [
    {
      "cell_type": "markdown",
      "metadata": {
        "id": "view-in-github",
        "colab_type": "text"
      },
      "source": [
        "<a href=\"https://colab.research.google.com/github/zscialom/RL_Research/blob/test/Data_test.ipynb\" target=\"_parent\"><img src=\"https://colab.research.google.com/assets/colab-badge.svg\" alt=\"Open In Colab\"/></a>"
      ]
    },
    {
      "cell_type": "markdown",
      "source": [
        "# Import Library"
      ],
      "metadata": {
        "id": "0fEoPYoKA7Vz"
      }
    },
    {
      "cell_type": "code",
      "execution_count": 42,
      "metadata": {
        "id": "p5VKax5g4IGb"
      },
      "outputs": [],
      "source": [
        "import numpy as np\n",
        "import matplotlib\n",
        "import statsmodels.api as sm\n",
        "import scipy.io as sio  # for loading matlab data\n",
        "import matplotlib.pyplot as plt\n",
        "from google.colab import drive\n"
      ]
    },
    {
      "cell_type": "code",
      "source": [
        "drive.mount('/content/drive')"
      ],
      "metadata": {
        "colab": {
          "base_uri": "https://localhost:8080/"
        },
        "id": "-Kre4kVi5WIX",
        "outputId": "ab8fb5f0-f56e-4e6f-f29c-efbcde07abb1"
      },
      "execution_count": 8,
      "outputs": [
        {
          "output_type": "stream",
          "name": "stdout",
          "text": [
            "Drive already mounted at /content/drive; to attempt to forcibly remount, call drive.mount(\"/content/drive\", force_remount=True).\n"
          ]
        }
      ]
    },
    {
      "cell_type": "markdown",
      "source": [
        "# Import Data"
      ],
      "metadata": {
        "id": "vEYqJqNeA_EC"
      }
    },
    {
      "cell_type": "code",
      "source": [
        "ticker = 'GOOG'\n",
        "period = '20141103'\n",
        "\n",
        "data = sio.loadmat('/content/drive/Shared drives/ProjectML/Project/Nov-2014/'+ticker+'_'+period+'.mat')"
      ],
      "metadata": {
        "id": "LRLY60vr5iBu"
      },
      "execution_count": 9,
      "outputs": []
    },
    {
      "cell_type": "markdown",
      "source": [
        "# Data Preprocessing"
      ],
      "metadata": {
        "id": "Uu7OJ1RtBDal"
      }
    },
    {
      "cell_type": "code",
      "source": [
        "LOB=data['LOB']\n",
        "\n",
        "# Refer to\"DataDescription.pdf\" in the GitHub repo\n",
        "# The file contains a structure called LOB where each field has entries corresponding to one second of the trading day\n",
        "\n",
        "# time stamp is milliseconds from midnight at the start of the second\n",
        "time_adj = 1e-3              # time adjustment: the time unit in raw data is millisecond\n",
        "price_adj = 1e-4             # price correction: the price quoted in raw data is in price*1e4 form\n",
        "t = (np.array((LOB['EventTime'][0][0][:,0]))-3600000*9.5)*time_adj    # converting time in seconds (hence 1e-3), measured from NASDAQ opening at 9:30am (hence 3600000*9.5)\n",
        "bid = np.array(LOB['BuyPrice'][0][0]*price_adj)                       # bid price in the given 0.1 second interval \n",
        "bidvol = np.array(LOB['BuyVolume'][0][0]*1.0)                         # bid volumes in the given 0.1 second interval                  \n",
        "ask = np.array(LOB['SellPrice'][0][0]*price_adj)                      # ask price in the given 0.1 second interval\n",
        "askvol = np.array(LOB['SellVolume'][0][0]*1.0)                        # ask volumes in the given 0.1 second interval\n",
        "nMO = np.array(LOB['NumberMO'][0][0]*1.0)                             # total number of MOs submitted in the given 0.1 second interval\n",
        "vMO = np.array(LOB['VolumeMO'][0][0]*1.0)                             # total volume of MOs submitted in the given 0.1 second interval\n",
        "MO=np.array(LOB['MO'][0][0]*1.0)                                      # information about market orders: number of MOs in the given 0.1 second interval\n",
        "dt = t[1]-t[0] "
      ],
      "metadata": {
        "id": "1DsLdlFw5nxQ"
      },
      "execution_count": 11,
      "outputs": []
    },
    {
      "cell_type": "code",
      "source": [
        "# Midprice\n",
        "midprice = 0.5*(bid[:,0]+ask[:,0])\n",
        "#print(midprice)\n",
        "\n",
        "# Microprice\n",
        "microprice = (bid[:,0]*askvol[:,0]+ask[:,0]*bidvol[:,0])/(bidvol[:,0]+askvol[:,0])\n",
        "\n",
        "# LO imbalance for each time stamp\n",
        "rho = np.array((bidvol[:,0]-askvol[:,0])/(bidvol[:,0]+askvol[:,0]),ndmin=2).T"
      ],
      "metadata": {
        "id": "uZRLMcpg-pb3"
      },
      "execution_count": 12,
      "outputs": []
    },
    {
      "cell_type": "code",
      "source": [
        "secondFreq = 10 # variable needed to work with seconds\n",
        "oneMinute = 60 \n",
        "\n",
        "#thirtyMin = (178*60+55)*secondFreq                 # 16:00 - 2 hours 58 minutes 55 seconds 5steps\n",
        "#thirtyMin = (177*60+20)*secondFreq                 # 16:00 - 2 hours 57 minutes 20 seconds 100steps\n",
        "#thirtyMin = (178*60+50)*secondFreq                 # 16:00 - 2 hours 58 minutes 50 seconds 10steps\n",
        "thirtyMin = (178*60+10)*secondFreq                  # 16:00 - 2 hours 58 minutes 10 seconds 50steps\n",
        "\n",
        "# Length of estimation window - 1 hour\n",
        "N = oneMinute*secondFreq  "
      ],
      "metadata": {
        "id": "SoUi6j_XCEZC"
      },
      "execution_count": 21,
      "outputs": []
    },
    {
      "cell_type": "markdown",
      "source": [
        "# Looking for Upward Trend"
      ],
      "metadata": {
        "id": "7x4nE15sCEtY"
      }
    },
    {
      "cell_type": "code",
      "source": [
        "r_midprice = midprice[1:]/midprice[:-1]"
      ],
      "metadata": {
        "id": "ZnvUvp7iCL7g"
      },
      "execution_count": 45,
      "outputs": []
    },
    {
      "cell_type": "code",
      "source": [
        "z_stat = 1.96\n",
        "r_test = r_midprice - 1\n",
        "r_test = (r_test-np.mean(r_test))/np.std(r_test)\n",
        "upward_starts = []\n",
        "\n",
        "for i in range(len(midprice)-N):           \n",
        "  model = sm.stats.ztest(r_test[i:i+N],value=0,alternative='larger')\n",
        "  if model[0]>z_stat:\n",
        "    upward_starts.append(i)"
      ],
      "metadata": {
        "id": "ftpVfHuIMJGl"
      },
      "execution_count": 55,
      "outputs": []
    },
    {
      "cell_type": "code",
      "source": [
        "plt.plot(midprice[upward_starts[0]:upward_starts[0]+N])"
      ],
      "metadata": {
        "colab": {
          "base_uri": "https://localhost:8080/",
          "height": 282
        },
        "id": "bLAruZf7exDv",
        "outputId": "bf344e56-d86a-4fe0-c8ea-beac4cd98e4c"
      },
      "execution_count": 57,
      "outputs": [
        {
          "output_type": "execute_result",
          "data": {
            "text/plain": [
              "[<matplotlib.lines.Line2D at 0x7faa9ca1f850>]"
            ]
          },
          "metadata": {},
          "execution_count": 57
        },
        {
          "output_type": "display_data",
          "data": {
            "text/plain": [
              "<Figure size 432x288 with 1 Axes>"
            ],
            "image/png": "[encoded data removed]"
          },
          "metadata": {
            "needs_background": "light"
          }
        }
      ]
    }
  ]
}